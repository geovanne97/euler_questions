{
 "cells": [
  {
   "cell_type": "code",
   "execution_count": 10,
   "metadata": {
    "collapsed": true
   },
   "outputs": [],
   "source": [
    "#a missing value is represent by: NaN\n",
    "#para excluir uma linha toda eu uso dropna com o axis=0,axis=1 tira o valor da coluna,inplace ele ja modifica o dataset original:\n",
    "#df.dropna(subset=['price'],axis=0,inplace=True)"
   ]
  },
  {
   "cell_type": "code",
   "execution_count": 11,
   "metadata": {
    "collapsed": true
   },
   "outputs": [],
   "source": [
    "#agora caso queiramos subs o missing value por um valor que é a média dos valores daquela coluna:\n",
    "#mean = df['nome_da_coluna'].mean()\n",
    "#o primeiro atributo de replace e os tipos de valores a serem subs, o segundo e o valor que eu quero colocar no lugar\n",
    "#df['nome_da_coluna'].replace(np.nan, mean)"
   ]
  },
  {
   "cell_type": "code",
   "execution_count": 12,
   "metadata": {
    "collapsed": true
   },
   "outputs": [],
   "source": [
    "#pegando os dados de uma coluna, fazendo um calculo com o valor e substituindo na mesma coluna o valor dado\n",
    "#df['coluna_a'] = 235/df['coluna_a']"
   ]
  },
  {
   "cell_type": "code",
   "execution_count": 13,
   "metadata": {
    "collapsed": true
   },
   "outputs": [],
   "source": [
    "#agora se eu quiser saber o type de uma coluna\n",
    "#df.dtypes()\n",
    "#agora se eu quiser mudar o type da coluna\n",
    "#df.astype(),exemplo:\n",
    "#df['price'] = df['price'].astype('int')"
   ]
  },
  {
   "cell_type": "code",
   "execution_count": 14,
   "metadata": {
    "collapsed": true
   },
   "outputs": [],
   "source": [
    "#rename a column\n",
    "#df.rename(columns={'coluna_A':'coluna_B'},inplace=True)"
   ]
  },
  {
   "cell_type": "code",
   "execution_count": 15,
   "metadata": {
    "collapsed": true
   },
   "outputs": [],
   "source": [
    "#standard(padronizar) ou normalize(normalizaçao)\n",
    "#as duas tem como objetivo fazer com que todas as variáveis fiquem com a mesma ordem de grandeza\n",
    "#que de uma coluna_1 os valores sao bem maiores que o da coluna_b, a grandeza/influencia no resultado da coluna_a é maior\n",
    "#padronizar as variaveis ira resultar numa media igual a 0\n",
    "\n",
    "#normalizar coloca as variaveis dentro de um intervalo de 0 e 1, ou se for negativo -1 e 1\n",
    "#se o desvio padrao é mt pequeno normalizar deve ser a escolha\n",
    "#um jeito de normalizar é usando a seguinte formula: df['coluna'] = df['coluna']/df['coluna'].max()\n",
    "#outro jeito\n",
    "#df['coluna'] = (df['coluna']-df['coluna'].min())/(df['coluna'].max()-df['coluna'].min())\n"
   ]
  },
  {
   "cell_type": "code",
   "execution_count": 16,
   "metadata": {
    "collapsed": true
   },
   "outputs": [],
   "source": [
    "#bins é uma maneira de vc classificar valores de uma coluna em pequeno,medio e grande\n",
    "#primeiro eu pego o menor e maior valor da coluna, e coloca qnts bins eu quero ter, se o men=5000 e o max=45000\n",
    "#vou ter que importa o numpy \"np\"\n",
    "#bins = np.linspace(min(df['coluna']),max(df['coluna']),4)\n",
    "#group_names = ['low','medium','high']\n",
    "#criar uma nova coluna com essas classificações\n",
    "#df['classificacao'] = pd.cut(df['coluna'],bins,labels=group_names,include_lowest=True)\n",
    "#no final eu to tranformando valores quantitativos em valores categóricos "
   ]
  },
  {
   "cell_type": "code",
   "execution_count": 17,
   "metadata": {
    "collapsed": true
   },
   "outputs": [],
   "source": [
    "#agora tranformar valor categoricos em valores quantitativos, ele vai criar uma coluna pra cada nome que esteja na coluna\n",
    "#e colocar valor 1 quando na coluna de cada palavra qnd ela estiver na coluna original\n",
    "#pd.get_dummies(df['coluna'])"
   ]
  },
  {
   "cell_type": "code",
   "execution_count": 18,
   "metadata": {
    "collapsed": true
   },
   "outputs": [],
   "source": [
    "#identificar se um arquivo tem valores null\n",
    "#missing_data = df.isnull()\n",
    "#ele me retorna um true or false\n",
    "#para contar os missing values de cada coluna\n",
    "#for column in missing_data.columns.values.tolist():\n",
    "#    print(column)\n",
    "#    print (missing_data[column].value_counts())\n",
    "#    print(\"\")   "
   ]
  },
  {
   "cell_type": "code",
   "execution_count": 19,
   "metadata": {
    "collapsed": true
   },
   "outputs": [],
   "source": [
    "#Whole columns should be dropped only if most entries in the column are empty. In our dataset, \n",
    "#none of the columns are empty enough to drop entirely. \n",
    "#Calculate the average of the column\n",
    "#avg_norm_loss = df[\"normalized-losses\"].astype(\"float\").mean(axis=0)\n",
    "\n",
    "#Replace \"NaN\" by mean value in \"normalized-losses\" column\n",
    "#df[\"normalized-losses\"].replace(np.nan, avg_norm_loss, inplace=True)\n",
    "\n",
    "#To see which values are present in a particular column,\n",
    "#df['num-of-doors'].value_counts()\n",
    "\n",
    "#We can also use the \".idxmax()\" method to calculate for us the most common type \n",
    "#df['num-of-doors'].value_counts().idxmax()\n",
    "\n",
    "#replace the missing 'num-of-doors' values by the most frequent, que tbm é uma tecnica\n",
    "#df[\"num-of-doors\"].replace(np.nan, \"four\", inplace=True)\n",
    "\n",
    "#agora vamos dropar as linhas que tenham nan\n",
    "#df.dropna(subset=[\"price\"], axis=0, inplace=True)\n",
    "# reset index, because we droped two rows\n",
    "#df.reset_index(drop=True, inplace=True)\n",
    "\n",
    "#Convert data types to proper format\n",
    "#df[[\"bore\", \"stroke\"]] = df[[\"bore\", \"stroke\"]].astype(\"float\")\n",
    "#df[[\"normalized-losses\"]] = df[[\"normalized-losses\"]].astype(\"int\")\n",
    "\n",
    "#Let us list the columns after the conversion¶\n",
    "#df.dtypes\n",
    "\n",
    "#padronizaçao\n",
    "# Convert mpg to L/100km by mathematical operation (235 divided by mpg)\n",
    "#df['city-L/100km'] = 235/df[\"city-mpg\"]\n",
    "\n",
    "#normalizaçao\n",
    "# replace (original value) by (original value)/(maximum value)\n",
    "#df['length'] = df['length']/df['length'].max()\n",
    "#df['width'] = df['width']/df['width'].max()\n",
    "\n"
   ]
  },
  {
   "cell_type": "code",
   "execution_count": 20,
   "metadata": {},
   "outputs": [
    {
     "ename": "SyntaxError",
     "evalue": "invalid syntax (<ipython-input-20-b20676c06049>, line 20)",
     "output_type": "error",
     "traceback": [
      "\u001b[0;36m  File \u001b[0;32m\"<ipython-input-20-b20676c06049>\"\u001b[0;36m, line \u001b[0;32m20\u001b[0m\n\u001b[0;31m    Lets see the number of vehicles in each bin.\u001b[0m\n\u001b[0m           ^\u001b[0m\n\u001b[0;31mSyntaxError\u001b[0m\u001b[0;31m:\u001b[0m invalid syntax\n"
     ]
    }
   ],
   "source": [
    "#binning\n",
    "df[\"horsepower\"]=df[\"horsepower\"].astype(int, copy=True)\n",
    "\n",
    "import matplotlib as plt\n",
    "from matplotlib import pyplot\n",
    "plt.pyplot.hist(df[\"horsepower\"])\n",
    "\n",
    "# set x/y labels and plot title\n",
    "plt.pyplot.xlabel(\"horsepower\")\n",
    "plt.pyplot.ylabel(\"count\")\n",
    "plt.pyplot.title(\"horsepower bins\")\n",
    "\n",
    "bins = np.linspace(min(df[\"horsepower\"]), max(df[\"horsepower\"]), 4)\n",
    "group_names = ['Low', 'Medium', 'High']\n",
    "\n",
    "df['horsepower-binned'] = pd.cut(df['horsepower'], bins, labels=group_names, include_lowest=True )\n",
    "df[['horsepower','horsepower-binned']].head(20)\n",
    "#o horsepower-binned vai ta com um dos nomes em group_names\n",
    "\n",
    "Lets see the number of vehicles in each bin.\n",
    "df[\"horsepower-binned\"].value_counts()\n",
    "\n",
    "pyplot.bar(group_names, df[\"horsepower-binned\"].value_counts())\n",
    "\n",
    "# set x/y labels and plot title\n",
    "plt.pyplot.xlabel(\"horsepower\")\n",
    "plt.pyplot.ylabel(\"count\")\n",
    "plt.pyplot.title(\"horsepower bins\")\n",
    "\n",
    "agora usando um histograma\n",
    "a = (0,1,2)\n",
    "\n",
    "# draw historgram of attribute \"horsepower\" with bins = 3\n",
    "plt.pyplot.hist(df[\"horsepower\"], bins = 3)\n",
    "\n",
    "# set x/y labels and plot title\n",
    "plt.pyplot.xlabel(\"horsepower\")\n",
    "plt.pyplot.ylabel(\"count\")\n",
    "plt.pyplot.title(\"horsepower bins\")"
   ]
  },
  {
   "cell_type": "code",
   "execution_count": null,
   "metadata": {
    "collapsed": true
   },
   "outputs": [],
   "source": []
  }
 ],
 "metadata": {
  "kernelspec": {
   "display_name": "Python 3",
   "language": "python",
   "name": "python3"
  },
  "language_info": {
   "codemirror_mode": {
    "name": "ipython",
    "version": 3
   },
   "file_extension": ".py",
   "mimetype": "text/x-python",
   "name": "python",
   "nbconvert_exporter": "python",
   "pygments_lexer": "ipython3",
   "version": "3.6.3"
  }
 },
 "nbformat": 4,
 "nbformat_minor": 2
}
