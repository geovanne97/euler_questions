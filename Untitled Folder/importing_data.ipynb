{
 "cells": [
  {
   "cell_type": "code",
   "execution_count": 1,
   "metadata": {
    "collapsed": true
   },
   "outputs": [],
   "source": [
    "import pandas as pd"
   ]
  },
  {
   "cell_type": "code",
   "execution_count": 2,
   "metadata": {
    "collapsed": true
   },
   "outputs": [],
   "source": [
    "#no caso do data estar em um site\n",
    "#url = \"https://archive.ics.uci.edu/ml/machine-learningdatabases/autos/imports-85.data\"\n",
    "#df = pd.read_csv(url)\n",
    "#caso o data nao tenha header\n",
    "#df = pd.read_csv(url, header = None), aqui o header vai ser um indice criado automaticamente\n",
    "#df, will print all the dataset\n",
    "#df.head(n), will show me the n first rows\n",
    "#df.tail(n), me mostra as n ultimas linhas"
   ]
  },
  {
   "cell_type": "code",
   "execution_count": 3,
   "metadata": {
    "collapsed": true
   },
   "outputs": [],
   "source": [
    "#criando colunas \n",
    "#headers = ['coluna1','coluna2','coluna3']\n",
    "#df.columns = headers\n",
    "\n",
    "#excluindo valores vazios das colunas\n",
    "#df.dropna(subset=['price'],axis=0)"
   ]
  },
  {
   "cell_type": "code",
   "execution_count": 4,
   "metadata": {
    "collapsed": true
   },
   "outputs": [],
   "source": [
    "#salvando as modificações feitas em um arquivo\n",
    "#path = \"endereço_do_arquivo\"\n",
    "#df.to_csv(path) ou df.to_csv(\"automobile.csv\", index=False)\n",
    "#mas eu posso querer salvar em outros formatos\n",
    "#df.to_json()\n",
    "#df.to_excel()\n",
    "#e tbm posso querer ler nesses formatos\n",
    "#df.read_json()\n",
    "#df.read.excel()"
   ]
  },
  {
   "cell_type": "code",
   "execution_count": 5,
   "metadata": {
    "collapsed": true
   },
   "outputs": [],
   "source": [
    "#verificando o tipo das colunas do data\n",
    "#df.dtypes()"
   ]
  },
  {
   "cell_type": "code",
   "execution_count": 6,
   "metadata": {
    "collapsed": true
   },
   "outputs": [],
   "source": [
    "#retornando dados estatisticos de cada coluna, tais como:media, desvio padrao,numero de termos\n",
    "#df.describe(include=\"all\")"
   ]
  },
  {
   "cell_type": "code",
   "execution_count": 7,
   "metadata": {
    "collapsed": true
   },
   "outputs": [],
   "source": [
    "#querendo informaçoes como linha\n",
    "#df.info()"
   ]
  },
  {
   "cell_type": "code",
   "execution_count": 9,
   "metadata": {},
   "outputs": [],
   "source": [
    "#conectando api ao db\n",
    "\n",
    "#from dbmodule import connect\n",
    "\n",
    "#creating a connection object\n",
    "#connection = connect('databasename','username','password')\n",
    "\n",
    "#create a cursor object\n",
    "#cursor = connection.cursor()\n",
    "\n",
    "#run queries\n",
    "#cursor.execute('select * from mytable')\n",
    "#results = cursor.fetchall()\n",
    "#cursor.close()\n",
    "#connection.close()\n"
   ]
  },
  {
   "cell_type": "code",
   "execution_count": null,
   "metadata": {
    "collapsed": true
   },
   "outputs": [],
   "source": []
  }
 ],
 "metadata": {
  "kernelspec": {
   "display_name": "Python 3",
   "language": "python",
   "name": "python3"
  },
  "language_info": {
   "codemirror_mode": {
    "name": "ipython",
    "version": 3
   },
   "file_extension": ".py",
   "mimetype": "text/x-python",
   "name": "python",
   "nbconvert_exporter": "python",
   "pygments_lexer": "ipython3",
   "version": "3.6.3"
  }
 },
 "nbformat": 4,
 "nbformat_minor": 2
}
