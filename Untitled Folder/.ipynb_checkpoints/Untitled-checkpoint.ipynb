{
 "cells": [
  {
   "cell_type": "code",
   "execution_count": 10,
   "metadata": {
    "collapsed": true
   },
   "outputs": [],
   "source": [
    "#a missing value is represent by: NaN\n",
    "#para excluir uma linha toda eu uso dropna com o axis=0,axis=1 tira o valor da coluna,inplace ele ja modifica o dataset original:\n",
    "#df.dropna(subset=['price'],axis=0,inplace=True)"
   ]
  },
  {
   "cell_type": "code",
   "execution_count": 11,
   "metadata": {
    "collapsed": true
   },
   "outputs": [],
   "source": [
    "#agora caso queiramos subs o missing value por um valor que é a média dos valores daquela coluna:\n",
    "#mean = df['nome_da_coluna'].mean()\n",
    "#o primeiro atributo de replace e os tipos de valores a serem subs, o segundo e o valor que eu quero colocar no lugar\n",
    "#df['nome_da_coluna'].replace(np.nan, mean)"
   ]
  },
  {
   "cell_type": "code",
   "execution_count": 12,
   "metadata": {
    "collapsed": true
   },
   "outputs": [],
   "source": [
    "#pegando os dados de uma coluna, fazendo um calculo com o valor e substituindo na mesma coluna o valor dado\n",
    "#df['coluna_a'] = 235/df['coluna_a']"
   ]
  },
  {
   "cell_type": "code",
   "execution_count": 13,
   "metadata": {
    "collapsed": true
   },
   "outputs": [],
   "source": [
    "#agora se eu quiser saber o type de uma coluna\n",
    "#df.dtypes()\n",
    "#agora se eu quiser mudar o type da coluna\n",
    "#df.astype(),exemplo:\n",
    "#df['price'] = df['price'].astype('int')"
   ]
  },
  {
   "cell_type": "code",
   "execution_count": 14,
   "metadata": {
    "collapsed": true
   },
   "outputs": [],
   "source": [
    "#rename a column\n",
    "#df.rename(columns={'coluna_A':'coluna_B'},inplace=True)"
   ]
  },
  {
   "cell_type": "code",
   "execution_count": 15,
   "metadata": {
    "collapsed": true
   },
   "outputs": [],
   "source": [
    "#standard(padronizar) ou normalize(normalizaçao)\n",
    "#as duas tem como objetivo fazer com que todas as variáveis fiquem com a mesma ordem de grandeza\n",
    "#que de uma coluna_1 os valores sao bem maiores que o da coluna_b, a grandeza/influencia no resultado da coluna_a é maior\n",
    "#padronizar as variaveis ira resultar numa media igual a 0\n",
    "\n",
    "#normalizar coloca as variaveis dentro de um intervalo de 0 e 1, ou se for negativo -1 e 1\n",
    "#se o desvio padrao é mt pequeno normalizar deve ser a escolha\n",
    "#um jeito de normalizar é usando a seguinte formula: df['coluna'] = df['coluna']/df['coluna'].max()\n",
    "#outro jeito\n",
    "#df['coluna'] = (df['coluna']-df['coluna'].min())/(df['coluna'].max()-df['coluna'].min())\n"
   ]
  },
  {
   "cell_type": "code",
   "execution_count": null,
   "metadata": {
    "collapsed": true
   },
   "outputs": [],
   "source": [
    "#bins é uma maneira de vc classificar valores de uma coluna em pequeno,medio e grande\n",
    "#primeiro eu pego o menor e maior valor da coluna, e coloca qnts bins eu quero ter, se o men=5000 e o max=45000\n",
    "#vou ter que importa o numpy \"np\"\n",
    "#bins = np.linspace(min(df['coluna']),max(df['coluna']),4)\n",
    "#group_names = ['low','medium','high']\n",
    "#criar uma nova coluna com essas classificações\n",
    "#df['classificacao'] = pd.cut(df['coluna'],bins,labels=group_names,include_lowest=True)"
   ]
  }
 ],
 "metadata": {
  "kernelspec": {
   "display_name": "Python 3",
   "language": "python",
   "name": "python3"
  },
  "language_info": {
   "codemirror_mode": {
    "name": "ipython",
    "version": 3
   },
   "file_extension": ".py",
   "mimetype": "text/x-python",
   "name": "python",
   "nbconvert_exporter": "python",
   "pygments_lexer": "ipython3",
   "version": "3.6.3"
  }
 },
 "nbformat": 4,
 "nbformat_minor": 2
}
